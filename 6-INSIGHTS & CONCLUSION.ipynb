{
  "nbformat": 4,
  "nbformat_minor": 0,
  "metadata": {
    "colab": {
      "provenance": []
    },
    "kernelspec": {
      "name": "python3",
      "display_name": "Python 3"
    },
    "language_info": {
      "name": "python"
    }
  },
  "cells": [
    {
      "cell_type": "markdown",
      "source": [
        "## Insights from Gaana Songs Analysis\n",
        "\n",
        "####1- Top 10 Singers by Number of Songs\n",
        "####Insight: The analysis reveals the top 10 singers who have the highest number of songs in the dataset. This highlights the most prolific artists on Gaana, showcasing their dominance in terms of the number of tracks.\n",
        "\n",
        "####2- Top 10 Longest Songs by Duration\n",
        "####Insight: This visualization highlights the top 10 longest songs by their duration. Longer songs are often special performances, extended mixes, or classical pieces, indicating a different listening experience compared to standard-length songs.\n",
        "\n",
        "####3- Punjabi Songs with Duration 3 to 4 Minutes\n",
        "####Insight: By filtering Punjabi songs to those with durations between 3 to 4 minutes, we identify tracks that fit the typical length of commercially popular songs. This insight is useful for understanding trends in Punjabi music, particularly what duration is most common for hit songs.\n",
        "\n",
        "####4- Top Singer -- S P balasubrahmanyam\n",
        "\n",
        "####Insight: The line plot for the top singer shows the singer with the most songs in the dataset. This provides a clear view of who the most prolific singer is, indicating their popularity and active contribution to the music platform.\n",
        "\n",
        "####5- Epic Song of the Year -- Haye Tumba\n",
        "\n",
        "####Insight: The epic songs of the year are determined by their duration, with the top 5 longest songs being highlighted. These songs stand out due to their length, often correlating with special releases or significant tracks within the year.\n",
        "\n",
        "####6- Best Collaboration -- S. P. Balasubrahmanyam,P. Susheela\n",
        "\n",
        "####Insight: The best collaborations are identified by the frequency of occurrences of singer pairings. This analysis shows which singer duos are most common, highlighting successful collaborations that resonate with listeners.\n"
      ],
      "metadata": {
        "id": "HK--ap2KJrOc"
      }
    },
    {
      "cell_type": "code",
      "source": [],
      "metadata": {
        "id": "f1qP4t57Kjs5"
      },
      "execution_count": null,
      "outputs": []
    }
  ]
}